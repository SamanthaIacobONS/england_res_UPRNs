{
 "cells": [
  {
   "cell_type": "markdown",
   "metadata": {},
   "source": [
    "# England residential UPRNs : changes from 2020-2024\n",
    "### Please run the cells in sequence!\n",
    "\n",
    "Author - Samantha Iacob\n",
    "\n",
    "Last updated - 15/4/2024\n",
    "\n",
    "To-do: add map and dashboard controls \n"
   ]
  },
  {
   "cell_type": "code",
   "execution_count": null,
   "metadata": {
    "scrolled": false
   },
   "outputs": [],
   "source": [
    "import panel as pn\n",
    "pn.extension()\n",
    "import pandas as pd\n",
    "pd.set_option('plotting.backend', 'pandas_bokeh')\n",
    "\n",
    "from bokeh.plotting import figure, output_notebook, show, save\n",
    "from bokeh.models import ColumnDataSource, HoverTool\n",
    "\n",
    "output_notebook() #specify the Bokeh plots should be embedded within the Jupyter notebook"
   ]
  },
  {
   "cell_type": "code",
   "execution_count": null,
   "metadata": {
    "scrolled": true
   },
   "outputs": [],
   "source": [
    "regions = pd.read_csv('e_regions.csv') #importing regional figures\n",
    "\n",
    "\n"
   ]
  },
  {
   "cell_type": "code",
   "execution_count": null,
   "metadata": {},
   "outputs": [],
   "source": [
    "regions_change = regions.copy() # creating a copy to work on\n",
    "\n",
    "#adding  averages entries\n",
    "row_list = []\n",
    "for year in range (2020,2025): \n",
    "    row_list.append({'RGN': 'E92000001', #England's country code\n",
    "                     'UPRN_count': regions_change[(regions_change.Year == year)].UPRN_count.sum(),\n",
    "                     'Year': year,\n",
    "                     'name': 'England'\n",
    "                    })\n",
    "#tacking this list onto the end of the dataframe    \n",
    "for row in row_list:\n",
    "    regions_change.loc[len(regions_change)] = row\n",
    "    \n",
    "regions_change.set_index(regions_change.RGN, inplace = True) # setting index to region code (needed in the line charts)\n",
    "#adding a change percent from 2020\n",
    "regions_change['change_pct'] = ((regions_change.UPRN_count / (regions_change[(regions_change.Year == 2020)].loc[regions_change.RGN].UPRN_count) - 1) * 100)"
   ]
  },
  {
   "cell_type": "code",
   "execution_count": null,
   "metadata": {},
   "outputs": [],
   "source": [
    "#setting up some stuff for the lines on the table\n",
    "region_dict = {'E12000001' : 'North East',\n",
    "               'E12000002' : 'North West', \n",
    "               'E12000003' :'Yorkshire and the Humber', \n",
    "               'E12000004' :'East Midlands', \n",
    "               'E12000005' :'West Midlands',\n",
    "               'E12000006' : 'East',\n",
    "               'E12000007' : 'London', \n",
    "               'E12000008' : 'South East', \n",
    "               'E12000009' :'South West'}\n",
    "from files.colors import pault_vibrant as colors # a short list of accessible colors for this chart"
   ]
  },
  {
   "cell_type": "code",
   "execution_count": null,
   "metadata": {},
   "outputs": [],
   "source": [
    "# creating a new plot with a title and axis labels\n",
    "p = figure(title=\"% change in residential property counts, 2020-2024, baseline year 2020\", \n",
    "           x_axis_label='year', \n",
    "           y_axis_label='% change in UPRNS (baseline 2020)',\n",
    "           width=800, \n",
    "           height=600,\n",
    "          )"
   ]
  },
  {
   "cell_type": "code",
   "execution_count": null,
   "metadata": {},
   "outputs": [],
   "source": [
    "#creatings the line renderers because it'll be easier to adapt for future things maybe\n",
    "counter = 0\n",
    "for key,value in region_dict.items():\n",
    "    p.line(regions_change[regions_change.RGN == key].Year, \n",
    "           regions_change[regions_change.RGN == key].change_pct,\n",
    "           name = value,\n",
    "           legend_label = value, \n",
    "           color = colors[counter], \n",
    "           line_width = 2\n",
    "          )\n",
    "    counter += 1"
   ]
  },
  {
   "cell_type": "code",
   "execution_count": null,
   "metadata": {},
   "outputs": [],
   "source": [
    "#creating a separate average line\n",
    "p.line(regions_change[regions_change.RGN == 'E92000001'].Year, \n",
    "           regions_change[regions_change.RGN == 'E92000001'].change_pct,\n",
    "           name = 'England',\n",
    "           legend_label = 'England', \n",
    "           color = 'Black', \n",
    "           line_width = 2,\n",
    "           line_dash = 'dashed'\n",
    "          )"
   ]
  },
  {
   "cell_type": "code",
   "execution_count": null,
   "metadata": {},
   "outputs": [],
   "source": [
    "p.legend.location = \"top_left\"\n",
    "# configure the tooltip \n",
    "p.add_tools(HoverTool(tooltips=[(\"Region\", \"$name\"),\n",
    "                               (\"Year\", \"@x\"),\n",
    "                               (\"UPRNS\", ) \n",
    "                               (\"% Change\", \"@y\")\n",
    "                               ]) ) "
   ]
  },
  {
   "cell_type": "code",
   "execution_count": null,
   "metadata": {
    "scrolled": false
   },
   "outputs": [],
   "source": [
    "show(p)"
   ]
  }
 ],
 "metadata": {
  "kernelspec": {
   "display_name": "geopy38",
   "language": "python",
   "name": "geopy38"
  },
  "language_info": {
   "codemirror_mode": {
    "name": "ipython",
    "version": 3
   },
   "file_extension": ".py",
   "mimetype": "text/x-python",
   "name": "python",
   "nbconvert_exporter": "python",
   "pygments_lexer": "ipython3",
   "version": "3.8.19"
  }
 },
 "nbformat": 4,
 "nbformat_minor": 4
}
